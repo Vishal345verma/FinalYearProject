{
 "cells": [
  {
   "cell_type": "code",
   "execution_count": null,
   "metadata": {},
   "outputs": [],
   "source": [
    "os.chdir('/tf/five-video-classification-methods')\n",
    "from subprocess import call\n",
    "import os\n",
    "from extractor import Extractor\n",
    "from keras.models import load_model\n",
    "from keras.preprocessing.image import img_to_array, load_img\n",
    "import numpy as np\n",
    "from data import DataSet\n",
    "import numpy as np\n",
    "from natsort import realsorted, ns\n",
    "import natsort"
   ]
  },
  {
   "cell_type": "code",
   "execution_count": null,
   "metadata": {},
   "outputs": [],
   "source": [
    "extractor_model = Extractor()"
   ]
  },
  {
   "cell_type": "code",
   "execution_count": null,
   "metadata": {},
   "outputs": [],
   "source": [
    "model = load_model('data/checkpoints/lstm-features.023-1.096.hdf5')"
   ]
  },
  {
   "cell_type": "code",
   "execution_count": null,
   "metadata": {},
   "outputs": [],
   "source": [
    "src = \"crawling.avi\"\n",
    "dest = os.path.join(\"tests\", \"frames\",\"%1d.jpg\")\n",
    "call([\"ffmpeg\", \"-i\", src,\"-vf\",\"fps=10\", dest])"
   ]
  },
  {
   "cell_type": "code",
   "execution_count": null,
   "metadata": {},
   "outputs": [],
   "source": [
    "from IPython.display import Image\n",
    "Image(filename='tests/frames/10.jpg')"
   ]
  },
  {
   "cell_type": "code",
   "execution_count": null,
   "metadata": {},
   "outputs": [],
   "source": [
    "sequence = []\n",
    "i = 0\n",
    "sequence_path = \"/tf/five-video-classification-methods/tests/sequence/data_final\n",
    "os.chdir(\"/tf/five-video-classification-methods/tests/frames\")\n",
    "sequence = []\n",
    "files = [f for f in os.listdir('.') if os.path.isfile(f)]\n",
    "sorted_files = natsort.natsorted(files,reverse=False)\n",
    "for f in sorted_files:\n",
    "    i = i + 1\n",
    "    features = extractor_model.extract(f)\n",
    "    sequence.append(features)\n",
    "        if i==40:\n",
    "            break\n",
    "\n",
    "np.save(sequence_path, sequence)\n",
    "\n",
    "len(sequence)"
   ]
  },
  {
   "cell_type": "code",
   "execution_count": null,
   "metadata": {},
   "outputs": [],
   "source": [
    "sequences = np.load(\"/tf/five-video-classification-methods/tests/sequence/data_fi\n",
    "sequences.shape"
   ]
  },
  {
   "cell_type": "code",
   "execution_count": null,
   "metadata": {},
   "outputs": [],
   "source": [
    "os.chdir('/tf/five-video-classification-methods')\n",
    "prediction = model.predict(np.expand_dims(sequences, axis=0))"
   ]
  },
  {
   "cell_type": "code",
   "execution_count": null,
   "metadata": {},
   "outputs": [],
   "source": [
    "os.chdir('/tf/five-video-classification-methods')\n",
    "from data import DataSet\n",
    "data = DataSet(seq_length=40, class_limit=4)\n",
    "def get_classes(self):\n",
    " \"\"\"Extract the classes from our data. If we want to limit them,\n",
    " only return the classes we need.\"\"\"\n",
    " classes = []\n",
    "     for item in self.data:\n",
    "        if item[1] not in classes:\n",
    "            classes.append(item[1])\n",
    "            # Sort them.\n",
    "            classes = sorted(classes)\n",
    "            # Return.\n",
    "                if self.class_limit is not None:\n",
    "                    return classes[:self.class_limit]\n",
    "                else:\n",
    "                    return classes"
   ]
  },
  {
   "cell_type": "code",
   "execution_count": null,
   "metadata": {},
   "outputs": [],
   "source": [
    "data.print_class_from_prediction(np.squeeze(prediction, axis=0))"
   ]
  }
 ],
 "metadata": {
  "kernelspec": {
   "display_name": "Python 3",
   "language": "python",
   "name": "python3"
  },
  "language_info": {
   "codemirror_mode": {
    "name": "ipython",
    "version": 3
   },
   "file_extension": ".py",
   "mimetype": "text/x-python",
   "name": "python",
   "nbconvert_exporter": "python",
   "pygments_lexer": "ipython3",
   "version": "3.7.6"
  }
 },
 "nbformat": 4,
 "nbformat_minor": 4
}
